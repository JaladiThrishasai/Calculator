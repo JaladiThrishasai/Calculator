{
 "cells": [
  {
   "cell_type": "code",
   "execution_count": 1,
   "id": "371dcc41",
   "metadata": {},
   "outputs": [
    {
     "name": "stdout",
     "output_type": "stream",
     "text": [
      "Welcome to the Simple Calculator!\n",
      "Available operations:\n",
      "1. Add\n",
      "2. Subtract\n",
      "3. Multiply\n",
      "4. Divide\n",
      "Enter the operation number (1/2/3/4): 1\n",
      "Enter the first number: 2\n",
      "Enter the second number: 3\n",
      "2.0 + 3.0 = 5.0\n"
     ]
    }
   ],
   "source": [
    "def add(x, y):\n",
    "    return x + y\n",
    "\n",
    "def subtract(x, y):\n",
    "    return x - y\n",
    "\n",
    "def multiply(x, y):\n",
    "    return x * y\n",
    "\n",
    "def divide(x, y):\n",
    "    if y == 0:\n",
    "        return \"Error! Division by zero.\"\n",
    "    return x / y\n",
    "\n",
    "def calculator():\n",
    "    print(\"Welcome to the Simple Calculator!\")\n",
    "    print(\"Available operations:\")\n",
    "    print(\"1. Add\")\n",
    "    print(\"2. Subtract\")\n",
    "    print(\"3. Multiply\")\n",
    "    print(\"4. Divide\")\n",
    "\n",
    "    # Prompt the user for the operation choice\n",
    "    choice = input(\"Enter the operation number (1/2/3/4): \")\n",
    "\n",
    "    if choice in ['1', '2', '3', '4']:\n",
    "        try:\n",
    "            # Prompt the user for two numbers\n",
    "            num1 = float(input(\"Enter the first number: \"))\n",
    "            num2 = float(input(\"Enter the second number: \"))\n",
    "\n",
    "            # Perform the chosen operation\n",
    "            if choice == '1':\n",
    "                result = add(num1, num2)\n",
    "                operation = \"+\"\n",
    "            elif choice == '2':\n",
    "                result = subtract(num1, num2)\n",
    "                operation = \"-\"\n",
    "            elif choice == '3':\n",
    "                result = multiply(num1, num2)\n",
    "                operation = \"*\"\n",
    "            elif choice == '4':\n",
    "                result = divide(num1, num2)\n",
    "                operation = \"/\"\n",
    "\n",
    "            # Display the result\n",
    "            if isinstance(result, str):  # Check if result is an error message\n",
    "                print(result)\n",
    "            else:\n",
    "                print(f\"{num1} {operation} {num2} = {result}\")\n",
    "\n",
    "        except ValueError:\n",
    "            print(\"Invalid input! Please enter numeric values.\")\n",
    "\n",
    "    else:\n",
    "        print(\"Invalid operation choice! Please enter a number between 1 and 4.\")\n",
    "\n",
    "# Example Usage\n",
    "calculator()\n"
   ]
  },
  {
   "cell_type": "code",
   "execution_count": null,
   "id": "d23b17b0",
   "metadata": {},
   "outputs": [],
   "source": []
  }
 ],
 "metadata": {
  "kernelspec": {
   "display_name": "Python 3 (ipykernel)",
   "language": "python",
   "name": "python3"
  },
  "language_info": {
   "codemirror_mode": {
    "name": "ipython",
    "version": 3
   },
   "file_extension": ".py",
   "mimetype": "text/x-python",
   "name": "python",
   "nbconvert_exporter": "python",
   "pygments_lexer": "ipython3",
   "version": "3.11.5"
  }
 },
 "nbformat": 4,
 "nbformat_minor": 5
}
